{
 "cells": [
  {
   "cell_type": "code",
   "execution_count": 1,
   "metadata": {},
   "outputs": [],
   "source": [
    "import pandas as pd\n",
    "import numpy as np\n",
    "import matplotlib.pyplot as plt"
   ]
  },
  {
   "cell_type": "code",
   "execution_count": 2,
   "metadata": {},
   "outputs": [
    {
     "data": {
      "text/html": [
       "<div>\n",
       "<style scoped>\n",
       "    .dataframe tbody tr th:only-of-type {\n",
       "        vertical-align: middle;\n",
       "    }\n",
       "\n",
       "    .dataframe tbody tr th {\n",
       "        vertical-align: top;\n",
       "    }\n",
       "\n",
       "    .dataframe thead th {\n",
       "        text-align: right;\n",
       "    }\n",
       "</style>\n",
       "<table border=\"1\" class=\"dataframe\">\n",
       "  <thead>\n",
       "    <tr style=\"text-align: right;\">\n",
       "      <th></th>\n",
       "      <th>Country Name</th>\n",
       "      <th>Country Code</th>\n",
       "      <th>Indicator Name</th>\n",
       "      <th>Indicator Code</th>\n",
       "      <th>1960</th>\n",
       "      <th>1961</th>\n",
       "      <th>1962</th>\n",
       "      <th>1963</th>\n",
       "      <th>1964</th>\n",
       "      <th>1965</th>\n",
       "      <th>...</th>\n",
       "      <th>2012</th>\n",
       "      <th>2013</th>\n",
       "      <th>2014</th>\n",
       "      <th>2015</th>\n",
       "      <th>2016</th>\n",
       "      <th>2017</th>\n",
       "      <th>2018</th>\n",
       "      <th>2019</th>\n",
       "      <th>2020</th>\n",
       "      <th>Unnamed: 65</th>\n",
       "    </tr>\n",
       "  </thead>\n",
       "  <tbody>\n",
       "    <tr>\n",
       "      <th>0</th>\n",
       "      <td>Arab World</td>\n",
       "      <td>ARB</td>\n",
       "      <td>Access to clean fuels and technologies for coo...</td>\n",
       "      <td>EG.CFT.ACCS.ZS</td>\n",
       "      <td>NaN</td>\n",
       "      <td>NaN</td>\n",
       "      <td>NaN</td>\n",
       "      <td>NaN</td>\n",
       "      <td>NaN</td>\n",
       "      <td>NaN</td>\n",
       "      <td>...</td>\n",
       "      <td>83.120303</td>\n",
       "      <td>83.533457</td>\n",
       "      <td>83.897596</td>\n",
       "      <td>84.171599</td>\n",
       "      <td>84.510171</td>\n",
       "      <td>NaN</td>\n",
       "      <td>NaN</td>\n",
       "      <td>NaN</td>\n",
       "      <td>NaN</td>\n",
       "      <td>NaN</td>\n",
       "    </tr>\n",
       "    <tr>\n",
       "      <th>1</th>\n",
       "      <td>Arab World</td>\n",
       "      <td>ARB</td>\n",
       "      <td>Access to electricity (% of population)</td>\n",
       "      <td>EG.ELC.ACCS.ZS</td>\n",
       "      <td>NaN</td>\n",
       "      <td>NaN</td>\n",
       "      <td>NaN</td>\n",
       "      <td>NaN</td>\n",
       "      <td>NaN</td>\n",
       "      <td>NaN</td>\n",
       "      <td>...</td>\n",
       "      <td>87.512260</td>\n",
       "      <td>88.129881</td>\n",
       "      <td>87.275323</td>\n",
       "      <td>88.720097</td>\n",
       "      <td>89.308602</td>\n",
       "      <td>90.283638</td>\n",
       "      <td>89.286856</td>\n",
       "      <td>NaN</td>\n",
       "      <td>NaN</td>\n",
       "      <td>NaN</td>\n",
       "    </tr>\n",
       "    <tr>\n",
       "      <th>2</th>\n",
       "      <td>Arab World</td>\n",
       "      <td>ARB</td>\n",
       "      <td>Access to electricity, rural (% of rural popul...</td>\n",
       "      <td>EG.ELC.ACCS.RU.ZS</td>\n",
       "      <td>NaN</td>\n",
       "      <td>NaN</td>\n",
       "      <td>NaN</td>\n",
       "      <td>NaN</td>\n",
       "      <td>NaN</td>\n",
       "      <td>NaN</td>\n",
       "      <td>...</td>\n",
       "      <td>77.251714</td>\n",
       "      <td>78.165706</td>\n",
       "      <td>75.512153</td>\n",
       "      <td>78.211000</td>\n",
       "      <td>79.065508</td>\n",
       "      <td>81.102134</td>\n",
       "      <td>79.248100</td>\n",
       "      <td>NaN</td>\n",
       "      <td>NaN</td>\n",
       "      <td>NaN</td>\n",
       "    </tr>\n",
       "    <tr>\n",
       "      <th>3</th>\n",
       "      <td>Arab World</td>\n",
       "      <td>ARB</td>\n",
       "      <td>Access to electricity, urban (% of urban popul...</td>\n",
       "      <td>EG.ELC.ACCS.UR.ZS</td>\n",
       "      <td>NaN</td>\n",
       "      <td>NaN</td>\n",
       "      <td>NaN</td>\n",
       "      <td>NaN</td>\n",
       "      <td>NaN</td>\n",
       "      <td>NaN</td>\n",
       "      <td>...</td>\n",
       "      <td>96.435957</td>\n",
       "      <td>96.772853</td>\n",
       "      <td>96.466705</td>\n",
       "      <td>96.936319</td>\n",
       "      <td>97.290083</td>\n",
       "      <td>97.467915</td>\n",
       "      <td>97.063959</td>\n",
       "      <td>NaN</td>\n",
       "      <td>NaN</td>\n",
       "      <td>NaN</td>\n",
       "    </tr>\n",
       "    <tr>\n",
       "      <th>4</th>\n",
       "      <td>Arab World</td>\n",
       "      <td>ARB</td>\n",
       "      <td>Account ownership at a financial institution o...</td>\n",
       "      <td>FX.OWN.TOTL.ZS</td>\n",
       "      <td>NaN</td>\n",
       "      <td>NaN</td>\n",
       "      <td>NaN</td>\n",
       "      <td>NaN</td>\n",
       "      <td>NaN</td>\n",
       "      <td>NaN</td>\n",
       "      <td>...</td>\n",
       "      <td>NaN</td>\n",
       "      <td>NaN</td>\n",
       "      <td>30.277130</td>\n",
       "      <td>NaN</td>\n",
       "      <td>NaN</td>\n",
       "      <td>37.165211</td>\n",
       "      <td>NaN</td>\n",
       "      <td>NaN</td>\n",
       "      <td>NaN</td>\n",
       "      <td>NaN</td>\n",
       "    </tr>\n",
       "  </tbody>\n",
       "</table>\n",
       "<p>5 rows × 66 columns</p>\n",
       "</div>"
      ],
      "text/plain": [
       "  Country Name Country Code  \\\n",
       "0   Arab World          ARB   \n",
       "1   Arab World          ARB   \n",
       "2   Arab World          ARB   \n",
       "3   Arab World          ARB   \n",
       "4   Arab World          ARB   \n",
       "\n",
       "                                      Indicator Name     Indicator Code  1960  \\\n",
       "0  Access to clean fuels and technologies for coo...     EG.CFT.ACCS.ZS   NaN   \n",
       "1            Access to electricity (% of population)     EG.ELC.ACCS.ZS   NaN   \n",
       "2  Access to electricity, rural (% of rural popul...  EG.ELC.ACCS.RU.ZS   NaN   \n",
       "3  Access to electricity, urban (% of urban popul...  EG.ELC.ACCS.UR.ZS   NaN   \n",
       "4  Account ownership at a financial institution o...     FX.OWN.TOTL.ZS   NaN   \n",
       "\n",
       "   1961  1962  1963  1964  1965  ...       2012       2013       2014  \\\n",
       "0   NaN   NaN   NaN   NaN   NaN  ...  83.120303  83.533457  83.897596   \n",
       "1   NaN   NaN   NaN   NaN   NaN  ...  87.512260  88.129881  87.275323   \n",
       "2   NaN   NaN   NaN   NaN   NaN  ...  77.251714  78.165706  75.512153   \n",
       "3   NaN   NaN   NaN   NaN   NaN  ...  96.435957  96.772853  96.466705   \n",
       "4   NaN   NaN   NaN   NaN   NaN  ...        NaN        NaN  30.277130   \n",
       "\n",
       "        2015       2016       2017       2018  2019  2020  Unnamed: 65  \n",
       "0  84.171599  84.510171        NaN        NaN   NaN   NaN          NaN  \n",
       "1  88.720097  89.308602  90.283638  89.286856   NaN   NaN          NaN  \n",
       "2  78.211000  79.065508  81.102134  79.248100   NaN   NaN          NaN  \n",
       "3  96.936319  97.290083  97.467915  97.063959   NaN   NaN          NaN  \n",
       "4        NaN        NaN  37.165211        NaN   NaN   NaN          NaN  \n",
       "\n",
       "[5 rows x 66 columns]"
      ]
     },
     "execution_count": 2,
     "metadata": {},
     "output_type": "execute_result"
    }
   ],
   "source": [
    "df = pd.read_csv('WDIData.csv')\n",
    "df.head()"
   ]
  },
  {
   "cell_type": "code",
   "execution_count": 3,
   "metadata": {},
   "outputs": [
    {
     "data": {
      "text/plain": [
       "(378576, 66)"
      ]
     },
     "execution_count": 3,
     "metadata": {},
     "output_type": "execute_result"
    }
   ],
   "source": [
    "df.shape"
   ]
  },
  {
   "cell_type": "code",
   "execution_count": 4,
   "metadata": {},
   "outputs": [
    {
     "data": {
      "text/plain": [
       "1434"
      ]
     },
     "execution_count": 4,
     "metadata": {},
     "output_type": "execute_result"
    }
   ],
   "source": [
    "len(df['Indicator Name'].unique())"
   ]
  },
  {
   "cell_type": "code",
   "execution_count": 41,
   "metadata": {},
   "outputs": [
    {
     "data": {
      "text/plain": [
       "Country Name           0\n",
       "Country Code           0\n",
       "Indicator Name         0\n",
       "Indicator Code         0\n",
       "1960              341337\n",
       "                   ...  \n",
       "2017              186503\n",
       "2018              197580\n",
       "2019              237934\n",
       "2020              373041\n",
       "Unnamed: 65       378576\n",
       "Length: 66, dtype: int64"
      ]
     },
     "execution_count": 41,
     "metadata": {},
     "output_type": "execute_result"
    }
   ],
   "source": [
    "nan = df.isna().sum()\n",
    "nan"
   ]
  },
  {
   "cell_type": "code",
   "execution_count": 42,
   "metadata": {},
   "outputs": [
    {
     "data": {
      "text/plain": [
       "1960    341337\n",
       "1961    336698\n",
       "1962    334475\n",
       "1963    334624\n",
       "1964    334085\n",
       "         ...  \n",
       "2016    173041\n",
       "2017    186503\n",
       "2018    197580\n",
       "2019    237934\n",
       "2020    373041\n",
       "Length: 61, dtype: int64"
      ]
     },
     "execution_count": 42,
     "metadata": {},
     "output_type": "execute_result"
    }
   ],
   "source": [
    "nan = nan[4:-1]\n",
    "nan"
   ]
  },
  {
   "cell_type": "code",
   "execution_count": 45,
   "metadata": {},
   "outputs": [
    {
     "data": {
      "image/png": "[encoded data removed]",
      "text/plain": [
       "<Figure size 720x2016 with 1 Axes>"
      ]
     },
     "metadata": {
      "needs_background": "light"
     },
     "output_type": "display_data"
    }
   ],
   "source": [
    "fig, ax = plt.subplots()\n",
    "\n",
    "y_pos = np.arange(len(nan))\n",
    "plt.rcParams[\"figure.figsize\"] = (10,28)\n",
    "\n",
    "ax.barh(y_pos, nan, align='center')\n",
    "\n",
    "ax.set_yticks(y_pos)\n",
    "ax.set_yticklabels(df.columns[4:-1])\n",
    "ax.invert_yaxis()  # labels read top-to-bottom\n",
    "ax.set_xlabel('Missing values')\n",
    "ax.set_title('Missing values per column')\n",
    "plt.savefig('MissingValues.svg', format='svg')"
   ]
  },
  {
   "cell_type": "code",
   "execution_count": 30,
   "metadata": {},
   "outputs": [
    {
     "data": {
      "text/plain": [
       "Index(['Country Name', 'Country Code', 'Indicator Name', 'Indicator Code',\n",
       "       '1960', '1961', '1962', '1963', '1964', '1965', '1966', '1967', '1968',\n",
       "       '1969', '1970', '1971', '1972', '1973', '1974', '1975', '1976', '1977',\n",
       "       '1978', '1979', '1980', '1981', '1982', '1983', '1984', '1985', '1986',\n",
       "       '1987', '1988', '1989', '1990', '1991', '1992', '1993', '1994', '1995',\n",
       "       '1996', '1997', '1998', '1999', '2000', '2001', '2002', '2003', '2004',\n",
       "       '2005', '2006', '2007', '2008', '2009', '2010', '2011', '2012', '2013',\n",
       "       '2014', '2015', '2016', '2017', '2018', '2019', '2020'],\n",
       "      dtype='object')"
      ]
     },
     "execution_count": 30,
     "metadata": {},
     "output_type": "execute_result"
    }
   ],
   "source": [
    "df.columns[:-1]"
   ]
  },
  {
   "cell_type": "code",
   "execution_count": 48,
   "metadata": {},
   "outputs": [
    {
     "data": {
      "text/plain": [
       "264"
      ]
     },
     "execution_count": 48,
     "metadata": {},
     "output_type": "execute_result"
    }
   ],
   "source": [
    "len(df['Country Name'].unique())"
   ]
  },
  {
   "cell_type": "code",
   "execution_count": 50,
   "metadata": {},
   "outputs": [
    {
     "data": {
      "text/plain": [
       "15933432"
      ]
     },
     "execution_count": 50,
     "metadata": {},
     "output_type": "execute_result"
    }
   ],
   "source": [
    "nan_all = df.isna().sum().values\n",
    "sum(nan_all)"
   ]
  },
  {
   "cell_type": "code",
   "execution_count": 51,
   "metadata": {},
   "outputs": [
    {
     "data": {
      "text/plain": [
       "{'Arab World': 63868,\n",
       " 'Caribbean small states': 64653,\n",
       " 'Central Europe and the Baltics': 64367,\n",
       " 'Early-demographic dividend': 60063,\n",
       " 'East Asia & Pacific': 60385,\n",
       " 'East Asia & Pacific (excluding high income)': 58661,\n",
       " 'East Asia & Pacific (IDA & IBRD countries)': 63031,\n",
       " 'Euro area': 60145,\n",
       " 'Europe & Central Asia': 58415,\n",
       " 'Europe & Central Asia (excluding high income)': 60490,\n",
       " 'Europe & Central Asia (IDA & IBRD countries)': 64399,\n",
       " 'European Union': 59718,\n",
       " 'Fragile and conflict affected situations': 63987,\n",
       " 'Heavily indebted poor countries (HIPC)': 63035,\n",
       " 'High income': 57559,\n",
       " 'IBRD only': 61913,\n",
       " 'IDA & IBRD total': 62239,\n",
       " 'IDA blend': 62760,\n",
       " 'IDA only': 63623,\n",
       " 'IDA total': 63695,\n",
       " 'Late-demographic dividend': 63140,\n",
       " 'Latin America & Caribbean': 56355,\n",
       " 'Latin America & Caribbean (excluding high income)': 54727,\n",
       " 'Latin America & the Caribbean (IDA & IBRD countries)': 59166,\n",
       " 'Least developed countries: UN classification': 64211,\n",
       " 'Low & middle income': 57543,\n",
       " 'Low income': 62373,\n",
       " 'Lower middle income': 56088,\n",
       " 'Middle East & North Africa': 61046,\n",
       " 'Middle East & North Africa (excluding high income)': 58128,\n",
       " 'Middle East & North Africa (IDA & IBRD countries)': 62224,\n",
       " 'Middle income': 57961,\n",
       " 'North America': 58651,\n",
       " 'Not classified': 88908,\n",
       " 'OECD members': 60034,\n",
       " 'Other small states': 66141,\n",
       " 'Pacific island small states': 67502,\n",
       " 'Post-demographic dividend': 60008,\n",
       " 'Pre-demographic dividend': 64020,\n",
       " 'Small states': 65946,\n",
       " 'South Asia': 54601,\n",
       " 'South Asia (IDA & IBRD)': 59246,\n",
       " 'Sub-Saharan Africa': 59399,\n",
       " 'Sub-Saharan Africa (excluding high income)': 58104,\n",
       " 'Sub-Saharan Africa (IDA & IBRD countries)': 62446,\n",
       " 'Upper middle income': 57988,\n",
       " 'World': 57964,\n",
       " 'Afghanistan': 64117,\n",
       " 'Albania': 57812,\n",
       " 'Algeria': 52669,\n",
       " 'American Samoa': 83873,\n",
       " 'Andorra': 82271,\n",
       " 'Angola': 60187,\n",
       " 'Antigua and Barbuda': 67179,\n",
       " 'Argentina': 48225,\n",
       " 'Armenia': 61105,\n",
       " 'Aruba': 73027,\n",
       " 'Australia': 52335,\n",
       " 'Austria': 53667,\n",
       " 'Azerbaijan': 61333,\n",
       " 'Bahamas, The': 60154,\n",
       " 'Bahrain': 58630,\n",
       " 'Bangladesh': 50853,\n",
       " 'Barbados': 60319,\n",
       " 'Belarus': 59921,\n",
       " 'Belgium': 56520,\n",
       " 'Belize': 56559,\n",
       " 'Benin': 52534,\n",
       " 'Bermuda': 77273,\n",
       " 'Bhutan': 61465,\n",
       " 'Bolivia': 49221,\n",
       " 'Bosnia and Herzegovina': 65318,\n",
       " 'Botswana': 52754,\n",
       " 'Brazil': 48961,\n",
       " 'British Virgin Islands': 83191,\n",
       " 'Brunei Darussalam': 61810,\n",
       " 'Bulgaria': 54507,\n",
       " 'Burkina Faso': 53674,\n",
       " 'Burundi': 54907,\n",
       " 'Cabo Verde': 59787,\n",
       " 'Cambodia': 58557,\n",
       " 'Cameroon': 50360,\n",
       " 'Canada': 52716,\n",
       " 'Cayman Islands': 82108,\n",
       " 'Central African Republic': 59261,\n",
       " 'Chad': 58485,\n",
       " 'Channel Islands': 81478,\n",
       " 'Chile': 49050,\n",
       " 'China': 55436,\n",
       " 'Colombia': 46140,\n",
       " 'Comoros': 61652,\n",
       " 'Congo, Dem. Rep.': 58384,\n",
       " 'Congo, Rep.': 52353,\n",
       " 'Costa Rica': 46059,\n",
       " \"Cote d'Ivoire\": 54764,\n",
       " 'Croatia': 62060,\n",
       " 'Cuba': 60142,\n",
       " 'Curacao': 80703,\n",
       " 'Cyprus': 53139,\n",
       " 'Czech Republic': 60164,\n",
       " 'Denmark': 51086,\n",
       " 'Djibouti': 65408,\n",
       " 'Dominica': 68630,\n",
       " 'Dominican Republic': 48004,\n",
       " 'Ecuador': 47775,\n",
       " 'Egypt, Arab Rep.': 48022,\n",
       " 'El Salvador': 49477,\n",
       " 'Equatorial Guinea': 67670,\n",
       " 'Eritrea': 68424,\n",
       " 'Estonia': 62370,\n",
       " 'Eswatini': 55219,\n",
       " 'Ethiopia': 56429,\n",
       " 'Faroe Islands': 81946,\n",
       " 'Fiji': 57571,\n",
       " 'Finland': 51852,\n",
       " 'France': 50425,\n",
       " 'French Polynesia': 75329,\n",
       " 'Gabon': 55295,\n",
       " 'Gambia, The': 56821,\n",
       " 'Georgia': 61042,\n",
       " 'Germany': 53695,\n",
       " 'Ghana': 51573,\n",
       " 'Gibraltar': 83190,\n",
       " 'Greece': 52312,\n",
       " 'Greenland': 80551,\n",
       " 'Grenada': 64571,\n",
       " 'Guam': 78093,\n",
       " 'Guatemala': 49039,\n",
       " 'Guinea': 59609,\n",
       " 'Guinea-Bissau': 60917,\n",
       " 'Guyana': 57722,\n",
       " 'Haiti': 57735,\n",
       " 'Honduras': 49083,\n",
       " 'Hong Kong SAR, China': 59955,\n",
       " 'Hungary': 55414,\n",
       " 'Iceland': 55715,\n",
       " 'India': 47837,\n",
       " 'Indonesia': 47996,\n",
       " 'Iran, Islamic Rep.': 52103,\n",
       " 'Iraq': 61954,\n",
       " 'Ireland': 54907,\n",
       " 'Isle of Man': 85963,\n",
       " 'Israel': 51920,\n",
       " 'Italy': 51316,\n",
       " 'Jamaica': 52277,\n",
       " 'Japan': 57107,\n",
       " 'Jordan': 50108,\n",
       " 'Kazakhstan': 61288,\n",
       " 'Kenya': 50583,\n",
       " 'Kiribati': 67296,\n",
       " 'Korea, Dem. People’s Rep.': 74383,\n",
       " 'Korea, Rep.': 48996,\n",
       " 'Kosovo': 80673,\n",
       " 'Kuwait': 57908,\n",
       " 'Kyrgyz Republic': 60416,\n",
       " 'Lao PDR': 59365,\n",
       " 'Latvia': 62262,\n",
       " 'Lebanon': 59096,\n",
       " 'Lesotho': 54271,\n",
       " 'Liberia': 63889,\n",
       " 'Libya': 65051,\n",
       " 'Liechtenstein': 83093,\n",
       " 'Lithuania': 62298,\n",
       " 'Luxembourg': 57518,\n",
       " 'Macao SAR, China': 65373,\n",
       " 'Madagascar': 52063,\n",
       " 'Malawi': 53699,\n",
       " 'Malaysia': 50260,\n",
       " 'Maldives': 62714,\n",
       " 'Mali': 53287,\n",
       " 'Malta': 54626,\n",
       " 'Marshall Islands': 77295,\n",
       " 'Mauritania': 55298,\n",
       " 'Mauritius': 52347,\n",
       " 'Mexico': 46318,\n",
       " 'Micronesia, Fed. Sts.': 74119,\n",
       " 'Moldova': 59838,\n",
       " 'Monaco': 83849,\n",
       " 'Mongolia': 57539,\n",
       " 'Montenegro': 70424,\n",
       " 'Morocco': 47999,\n",
       " 'Mozambique': 57732,\n",
       " 'Myanmar': 58703,\n",
       " 'Namibia': 59734,\n",
       " 'Nauru': 81155,\n",
       " 'Nepal': 53550,\n",
       " 'Netherlands': 50731,\n",
       " 'New Caledonia': 74762,\n",
       " 'New Zealand': 55106,\n",
       " 'Nicaragua': 51362,\n",
       " 'Niger': 53330,\n",
       " 'Nigeria': 53329,\n",
       " 'North Macedonia': 61706,\n",
       " 'Northern Mariana Islands': 85234,\n",
       " 'Norway': 50950,\n",
       " 'Oman': 57466,\n",
       " 'Pakistan': 49212,\n",
       " 'Palau': 78398,\n",
       " 'Panama': 51565,\n",
       " 'Papua New Guinea': 56909,\n",
       " 'Paraguay': 49823,\n",
       " 'Peru': 45826,\n",
       " 'Philippines': 47311,\n",
       " 'Poland': 56664,\n",
       " 'Portugal': 52721,\n",
       " 'Puerto Rico': 70694,\n",
       " 'Qatar': 63750,\n",
       " 'Romania': 54997,\n",
       " 'Russian Federation': 60743,\n",
       " 'Rwanda': 54787,\n",
       " 'Samoa': 64184,\n",
       " 'San Marino': 81231,\n",
       " 'Sao Tome and Principe': 66273,\n",
       " 'Saudi Arabia': 58331,\n",
       " 'Senegal': 50649,\n",
       " 'Serbia': 66944,\n",
       " 'Seychelles': 60758,\n",
       " 'Sierra Leone': 56499,\n",
       " 'Singapore': 52178,\n",
       " 'Sint Maarten (Dutch part)': 85994,\n",
       " 'Slovak Republic': 61605,\n",
       " 'Slovenia': 62015,\n",
       " 'Solomon Islands': 63550,\n",
       " 'Somalia': 67515,\n",
       " 'South Africa': 48955,\n",
       " 'South Sudan': 77091,\n",
       " 'Spain': 52464,\n",
       " 'Sri Lanka': 48695,\n",
       " 'St. Kitts and Nevis': 70553,\n",
       " 'St. Lucia': 62020,\n",
       " 'St. Martin (French part)': 88004,\n",
       " 'St. Vincent and the Grenadines': 61840,\n",
       " 'Sudan': 54985,\n",
       " 'Suriname': 63328,\n",
       " 'Sweden': 50159,\n",
       " 'Switzerland': 52816,\n",
       " 'Syrian Arab Republic': 58841,\n",
       " 'Tajikistan': 64098,\n",
       " 'Tanzania': 54453,\n",
       " 'Thailand': 47357,\n",
       " 'Timor-Leste': 68825,\n",
       " 'Togo': 50970,\n",
       " 'Tonga': 62654,\n",
       " 'Trinidad and Tobago': 59377,\n",
       " 'Tunisia': 48594,\n",
       " 'Turkey': 47284,\n",
       " 'Turkmenistan': 71520,\n",
       " 'Turks and Caicos Islands': 83292,\n",
       " 'Tuvalu': 79821,\n",
       " 'Uganda': 54257,\n",
       " 'Ukraine': 59902,\n",
       " 'United Arab Emirates': 64192,\n",
       " 'United Kingdom': 51223,\n",
       " 'United States': 51760,\n",
       " 'Uruguay': 50333,\n",
       " 'Uzbekistan': 64880,\n",
       " 'Vanuatu': 62286,\n",
       " 'Venezuela, RB': 51698,\n",
       " 'Vietnam': 58799,\n",
       " 'Virgin Islands (U.S.)': 79142,\n",
       " 'West Bank and Gaza': 68628,\n",
       " 'Yemen, Rep.': 64460,\n",
       " 'Zambia': 54777,\n",
       " 'Zimbabwe': 56137}"
      ]
     },
     "execution_count": 51,
     "metadata": {},
     "output_type": "execute_result"
    }
   ],
   "source": [
    "nan_country = dict()\n",
    "for country in list(df['Country Name'].unique()):\n",
    "    df_country = df[df[\"Country Name\"] == country]\n",
    "    nan_per_country = sum(df_country.isna().sum().values)\n",
    "    nan_country[country] = nan_per_country = sum(df_country.isna().sum().values)\n",
    "nan_country"
   ]
  },
  {
   "cell_type": "code",
   "execution_count": 54,
   "metadata": {},
   "outputs": [
    {
     "name": "stdout",
     "output_type": "stream",
     "text": [
      "[('Not classified', 88908), ('St. Martin (French part)', 88004), ('Sint Maarten (Dutch part)', 85994), ('Isle of Man', 85963), ('Northern Mariana Islands', 85234), ('American Samoa', 83873), ('Monaco', 83849), ('Turks and Caicos Islands', 83292), ('British Virgin Islands', 83191), ('Gibraltar', 83190), ('Liechtenstein', 83093), ('Andorra', 82271), ('Cayman Islands', 82108), ('Faroe Islands', 81946), ('Channel Islands', 81478), ('San Marino', 81231), ('Nauru', 81155), ('Curacao', 80703), ('Kosovo', 80673), ('Greenland', 80551), ('Tuvalu', 79821), ('Virgin Islands (U.S.)', 79142), ('Palau', 78398), ('Guam', 78093), ('Marshall Islands', 77295), ('Bermuda', 77273), ('South Sudan', 77091), ('French Polynesia', 75329), ('New Caledonia', 74762), ('Korea, Dem. People’s Rep.', 74383), ('Micronesia, Fed. Sts.', 74119), ('Aruba', 73027), ('Turkmenistan', 71520), ('Puerto Rico', 70694), ('St. Kitts and Nevis', 70553), ('Montenegro', 70424), ('Timor-Leste', 68825), ('Dominica', 68630), ('West Bank and Gaza', 68628), ('Eritrea', 68424), ('Equatorial Guinea', 67670), ('Somalia', 67515), ('Pacific island small states', 67502), ('Kiribati', 67296), ('Antigua and Barbuda', 67179), ('Serbia', 66944), ('Sao Tome and Principe', 66273), ('Other small states', 66141), ('Small states', 65946), ('Djibouti', 65408), ('Macao SAR, China', 65373), ('Bosnia and Herzegovina', 65318), ('Libya', 65051), ('Uzbekistan', 64880), ('Caribbean small states', 64653), ('Grenada', 64571), ('Yemen, Rep.', 64460), ('Europe & Central Asia (IDA & IBRD countries)', 64399), ('Central Europe and the Baltics', 64367), ('Least developed countries: UN classification', 64211), ('United Arab Emirates', 64192), ('Samoa', 64184), ('Afghanistan', 64117), ('Tajikistan', 64098), ('Pre-demographic dividend', 64020), ('Fragile and conflict affected situations', 63987), ('Liberia', 63889), ('Arab World', 63868), ('Qatar', 63750), ('IDA total', 63695), ('IDA only', 63623), ('Solomon Islands', 63550), ('Suriname', 63328), ('Late-demographic dividend', 63140), ('Heavily indebted poor countries (HIPC)', 63035), ('East Asia & Pacific (IDA & IBRD countries)', 63031), ('IDA blend', 62760), ('Maldives', 62714), ('Tonga', 62654), ('Sub-Saharan Africa (IDA & IBRD countries)', 62446), ('Low income', 62373), ('Estonia', 62370), ('Lithuania', 62298), ('Vanuatu', 62286), ('Latvia', 62262), ('IDA & IBRD total', 62239), ('Middle East & North Africa (IDA & IBRD countries)', 62224), ('Croatia', 62060), ('St. Lucia', 62020), ('Slovenia', 62015), ('Iraq', 61954), ('IBRD only', 61913), ('St. Vincent and the Grenadines', 61840), ('Brunei Darussalam', 61810), ('North Macedonia', 61706), ('Comoros', 61652), ('Slovak Republic', 61605), ('Bhutan', 61465), ('Azerbaijan', 61333), ('Kazakhstan', 61288), ('Armenia', 61105), ('Middle East & North Africa', 61046), ('Georgia', 61042), ('Guinea-Bissau', 60917), ('Seychelles', 60758), ('Russian Federation', 60743), ('Europe & Central Asia (excluding high income)', 60490), ('Kyrgyz Republic', 60416), ('East Asia & Pacific', 60385), ('Barbados', 60319), ('Angola', 60187), ('Czech Republic', 60164), ('Bahamas, The', 60154), ('Euro area', 60145), ('Cuba', 60142), ('Early-demographic dividend', 60063), ('OECD members', 60034), ('Post-demographic dividend', 60008), ('Hong Kong SAR, China', 59955), ('Belarus', 59921), ('Ukraine', 59902), ('Moldova', 59838), ('Cabo Verde', 59787), ('Namibia', 59734), ('European Union', 59718), ('Guinea', 59609), ('Sub-Saharan Africa', 59399), ('Trinidad and Tobago', 59377), ('Lao PDR', 59365), ('Central African Republic', 59261), ('South Asia (IDA & IBRD)', 59246), ('Latin America & the Caribbean (IDA & IBRD countries)', 59166), ('Lebanon', 59096), ('Syrian Arab Republic', 58841), ('Vietnam', 58799), ('Myanmar', 58703), ('East Asia & Pacific (excluding high income)', 58661), ('North America', 58651), ('Bahrain', 58630), ('Cambodia', 58557), ('Chad', 58485), ('Europe & Central Asia', 58415), ('Congo, Dem. Rep.', 58384), ('Saudi Arabia', 58331), ('Middle East & North Africa (excluding high income)', 58128), ('Sub-Saharan Africa (excluding high income)', 58104), ('Upper middle income', 57988), ('World', 57964), ('Middle income', 57961), ('Kuwait', 57908), ('Albania', 57812), ('Haiti', 57735), ('Mozambique', 57732), ('Guyana', 57722), ('Fiji', 57571), ('High income', 57559), ('Low & middle income', 57543), ('Mongolia', 57539), ('Luxembourg', 57518), ('Oman', 57466), ('Japan', 57107), ('Papua New Guinea', 56909), ('Gambia, The', 56821), ('Poland', 56664), ('Belize', 56559), ('Belgium', 56520), ('Sierra Leone', 56499), ('Ethiopia', 56429), ('Latin America & Caribbean', 56355), ('Zimbabwe', 56137), ('Lower middle income', 56088), ('Iceland', 55715), ('China', 55436), ('Hungary', 55414), ('Mauritania', 55298), ('Gabon', 55295), ('Eswatini', 55219), ('New Zealand', 55106), ('Romania', 54997), ('Sudan', 54985), ('Burundi', 54907), ('Ireland', 54907), ('Rwanda', 54787), ('Zambia', 54777), (\"Cote d'Ivoire\", 54764), ('Latin America & Caribbean (excluding high income)', 54727), ('Malta', 54626), ('South Asia', 54601), ('Bulgaria', 54507), ('Tanzania', 54453), ('Lesotho', 54271), ('Uganda', 54257), ('Malawi', 53699), ('Germany', 53695), ('Burkina Faso', 53674), ('Austria', 53667), ('Nepal', 53550), ('Niger', 53330), ('Nigeria', 53329), ('Mali', 53287), ('Cyprus', 53139), ('Switzerland', 52816), ('Botswana', 52754), ('Portugal', 52721), ('Canada', 52716), ('Algeria', 52669), ('Benin', 52534), ('Spain', 52464), ('Congo, Rep.', 52353), ('Mauritius', 52347), ('Australia', 52335), ('Greece', 52312), ('Jamaica', 52277), ('Singapore', 52178), ('Iran, Islamic Rep.', 52103), ('Madagascar', 52063), ('Israel', 51920), ('Finland', 51852), ('United States', 51760), ('Venezuela, RB', 51698), ('Ghana', 51573), ('Panama', 51565), ('Nicaragua', 51362), ('Italy', 51316), ('United Kingdom', 51223), ('Denmark', 51086), ('Togo', 50970), ('Norway', 50950), ('Bangladesh', 50853), ('Netherlands', 50731), ('Senegal', 50649), ('Kenya', 50583), ('France', 50425), ('Cameroon', 50360), ('Uruguay', 50333), ('Malaysia', 50260), ('Sweden', 50159), ('Jordan', 50108), ('Paraguay', 49823), ('El Salvador', 49477), ('Bolivia', 49221), ('Pakistan', 49212), ('Honduras', 49083), ('Chile', 49050), ('Guatemala', 49039), ('Korea, Rep.', 48996), ('Brazil', 48961), ('South Africa', 48955), ('Sri Lanka', 48695), ('Tunisia', 48594), ('Argentina', 48225), ('Egypt, Arab Rep.', 48022), ('Dominican Republic', 48004), ('Morocco', 47999), ('Indonesia', 47996), ('India', 47837), ('Ecuador', 47775), ('Thailand', 47357), ('Philippines', 47311), ('Turkey', 47284), ('Mexico', 46318), ('Colombia', 46140), ('Costa Rica', 46059), ('Peru', 45826)]\n"
     ]
    }
   ],
   "source": [
    "nan_country_sorted = sorted(nan_country.items(), key=lambda x: x[1], reverse=True)    \n",
    "print(nan_country_sorted)"
   ]
  },
  {
   "cell_type": "code",
   "execution_count": 56,
   "metadata": {},
   "outputs": [
    {
     "data": {
      "text/plain": [
       "[('Not classified', 88908),\n",
       " ('St. Martin (French part)', 88004),\n",
       " ('Sint Maarten (Dutch part)', 85994),\n",
       " ('Isle of Man', 85963),\n",
       " ('Northern Mariana Islands', 85234),\n",
       " ('American Samoa', 83873),\n",
       " ('Monaco', 83849),\n",
       " ('Turks and Caicos Islands', 83292),\n",
       " ('British Virgin Islands', 83191),\n",
       " ('Gibraltar', 83190),\n",
       " ('Liechtenstein', 83093),\n",
       " ('Andorra', 82271),\n",
       " ('Cayman Islands', 82108),\n",
       " ('Faroe Islands', 81946),\n",
       " ('Channel Islands', 81478),\n",
       " ('San Marino', 81231),\n",
       " ('Nauru', 81155),\n",
       " ('Curacao', 80703),\n",
       " ('Kosovo', 80673),\n",
       " ('Greenland', 80551)]"
      ]
     },
     "execution_count": 56,
     "metadata": {},
     "output_type": "execute_result"
    }
   ],
   "source": [
    "nan_country_sorted[:20]"
   ]
  },
  {
   "cell_type": "code",
   "execution_count": 59,
   "metadata": {},
   "outputs": [
    {
     "ename": "TypeError",
     "evalue": "'value' must be an instance of str or bytes, not a numpy.int64",
     "output_type": "error",
     "traceback": [
      "\u001b[1;31m---------------------------------------------------------------------------\u001b[0m",
      "\u001b[1;31mTypeError\u001b[0m                                 Traceback (most recent call last)",
      "\u001b[1;32m<ipython-input-59-0cb0b0a1b0b4>\u001b[0m in \u001b[0;36m<module>\u001b[1;34m\u001b[0m\n\u001b[0;32m      4\u001b[0m \u001b[0mplt\u001b[0m\u001b[1;33m.\u001b[0m\u001b[0mrcParams\u001b[0m\u001b[1;33m[\u001b[0m\u001b[1;34m\"figure.figsize\"\u001b[0m\u001b[1;33m]\u001b[0m \u001b[1;33m=\u001b[0m \u001b[1;33m(\u001b[0m\u001b[1;36m10\u001b[0m\u001b[1;33m,\u001b[0m\u001b[1;36m20\u001b[0m\u001b[1;33m)\u001b[0m\u001b[1;33m\u001b[0m\u001b[1;33m\u001b[0m\u001b[0m\n\u001b[0;32m      5\u001b[0m \u001b[1;33m\u001b[0m\u001b[0m\n\u001b[1;32m----> 6\u001b[1;33m \u001b[0max\u001b[0m\u001b[1;33m.\u001b[0m\u001b[0mbarh\u001b[0m\u001b[1;33m(\u001b[0m\u001b[0my_pos\u001b[0m\u001b[1;33m,\u001b[0m \u001b[0mnan_country_sorted\u001b[0m\u001b[1;33m[\u001b[0m\u001b[1;33m:\u001b[0m\u001b[1;33m]\u001b[0m\u001b[1;33m[\u001b[0m\u001b[1;36m1\u001b[0m\u001b[1;33m]\u001b[0m\u001b[1;33m,\u001b[0m \u001b[0malign\u001b[0m\u001b[1;33m=\u001b[0m\u001b[1;34m'center'\u001b[0m\u001b[1;33m)\u001b[0m\u001b[1;33m\u001b[0m\u001b[1;33m\u001b[0m\u001b[0m\n\u001b[0m\u001b[0;32m      7\u001b[0m \u001b[1;33m\u001b[0m\u001b[0m\n\u001b[0;32m      8\u001b[0m \u001b[0max\u001b[0m\u001b[1;33m.\u001b[0m\u001b[0mset_yticks\u001b[0m\u001b[1;33m(\u001b[0m\u001b[0my_pos\u001b[0m\u001b[1;33m)\u001b[0m\u001b[1;33m\u001b[0m\u001b[1;33m\u001b[0m\u001b[0m\n",
      "\u001b[1;32m~\\anaconda3\\lib\\site-packages\\matplotlib\\axes\\_axes.py\u001b[0m in \u001b[0;36mbarh\u001b[1;34m(self, y, width, height, left, align, **kwargs)\u001b[0m\n\u001b[0;32m   2628\u001b[0m         \"\"\"\n\u001b[0;32m   2629\u001b[0m         \u001b[0mkwargs\u001b[0m\u001b[1;33m.\u001b[0m\u001b[0msetdefault\u001b[0m\u001b[1;33m(\u001b[0m\u001b[1;34m'orientation'\u001b[0m\u001b[1;33m,\u001b[0m \u001b[1;34m'horizontal'\u001b[0m\u001b[1;33m)\u001b[0m\u001b[1;33m\u001b[0m\u001b[1;33m\u001b[0m\u001b[0m\n\u001b[1;32m-> 2630\u001b[1;33m         patches = self.bar(x=left, height=height, width=width, bottom=y,\n\u001b[0m\u001b[0;32m   2631\u001b[0m                            align=align, **kwargs)\n\u001b[0;32m   2632\u001b[0m         \u001b[1;32mreturn\u001b[0m \u001b[0mpatches\u001b[0m\u001b[1;33m\u001b[0m\u001b[1;33m\u001b[0m\u001b[0m\n",
      "\u001b[1;32m~\\anaconda3\\lib\\site-packages\\matplotlib\\__init__.py\u001b[0m in \u001b[0;36minner\u001b[1;34m(ax, data, *args, **kwargs)\u001b[0m\n\u001b[0;32m   1436\u001b[0m     \u001b[1;32mdef\u001b[0m \u001b[0minner\u001b[0m\u001b[1;33m(\u001b[0m\u001b[0max\u001b[0m\u001b[1;33m,\u001b[0m \u001b[1;33m*\u001b[0m\u001b[0margs\u001b[0m\u001b[1;33m,\u001b[0m \u001b[0mdata\u001b[0m\u001b[1;33m=\u001b[0m\u001b[1;32mNone\u001b[0m\u001b[1;33m,\u001b[0m \u001b[1;33m**\u001b[0m\u001b[0mkwargs\u001b[0m\u001b[1;33m)\u001b[0m\u001b[1;33m:\u001b[0m\u001b[1;33m\u001b[0m\u001b[1;33m\u001b[0m\u001b[0m\n\u001b[0;32m   1437\u001b[0m         \u001b[1;32mif\u001b[0m \u001b[0mdata\u001b[0m \u001b[1;32mis\u001b[0m \u001b[1;32mNone\u001b[0m\u001b[1;33m:\u001b[0m\u001b[1;33m\u001b[0m\u001b[1;33m\u001b[0m\u001b[0m\n\u001b[1;32m-> 1438\u001b[1;33m             \u001b[1;32mreturn\u001b[0m \u001b[0mfunc\u001b[0m\u001b[1;33m(\u001b[0m\u001b[0max\u001b[0m\u001b[1;33m,\u001b[0m \u001b[1;33m*\u001b[0m\u001b[0mmap\u001b[0m\u001b[1;33m(\u001b[0m\u001b[0msanitize_sequence\u001b[0m\u001b[1;33m,\u001b[0m \u001b[0margs\u001b[0m\u001b[1;33m)\u001b[0m\u001b[1;33m,\u001b[0m \u001b[1;33m**\u001b[0m\u001b[0mkwargs\u001b[0m\u001b[1;33m)\u001b[0m\u001b[1;33m\u001b[0m\u001b[1;33m\u001b[0m\u001b[0m\n\u001b[0m\u001b[0;32m   1439\u001b[0m \u001b[1;33m\u001b[0m\u001b[0m\n\u001b[0;32m   1440\u001b[0m         \u001b[0mbound\u001b[0m \u001b[1;33m=\u001b[0m \u001b[0mnew_sig\u001b[0m\u001b[1;33m.\u001b[0m\u001b[0mbind\u001b[0m\u001b[1;33m(\u001b[0m\u001b[0max\u001b[0m\u001b[1;33m,\u001b[0m \u001b[1;33m*\u001b[0m\u001b[0margs\u001b[0m\u001b[1;33m,\u001b[0m \u001b[1;33m**\u001b[0m\u001b[0mkwargs\u001b[0m\u001b[1;33m)\u001b[0m\u001b[1;33m\u001b[0m\u001b[1;33m\u001b[0m\u001b[0m\n",
      "\u001b[1;32m~\\anaconda3\\lib\\site-packages\\matplotlib\\axes\\_axes.py\u001b[0m in \u001b[0;36mbar\u001b[1;34m(self, x, height, width, bottom, align, **kwargs)\u001b[0m\n\u001b[0;32m   2409\u001b[0m                 \u001b[0mself\u001b[0m\u001b[1;33m.\u001b[0m\u001b[0mset_yscale\u001b[0m\u001b[1;33m(\u001b[0m\u001b[1;34m'log'\u001b[0m\u001b[1;33m,\u001b[0m \u001b[0mnonpositive\u001b[0m\u001b[1;33m=\u001b[0m\u001b[1;34m'clip'\u001b[0m\u001b[1;33m)\u001b[0m\u001b[1;33m\u001b[0m\u001b[1;33m\u001b[0m\u001b[0m\n\u001b[0;32m   2410\u001b[0m         \u001b[1;32melif\u001b[0m \u001b[0morientation\u001b[0m \u001b[1;33m==\u001b[0m \u001b[1;34m'horizontal'\u001b[0m\u001b[1;33m:\u001b[0m\u001b[1;33m\u001b[0m\u001b[1;33m\u001b[0m\u001b[0m\n\u001b[1;32m-> 2411\u001b[1;33m             \u001b[0mself\u001b[0m\u001b[1;33m.\u001b[0m\u001b[0m_process_unit_info\u001b[0m\u001b[1;33m(\u001b[0m\u001b[0mxdata\u001b[0m\u001b[1;33m=\u001b[0m\u001b[0mwidth\u001b[0m\u001b[1;33m,\u001b[0m \u001b[0mydata\u001b[0m\u001b[1;33m=\u001b[0m\u001b[0my\u001b[0m\u001b[1;33m,\u001b[0m \u001b[0mkwargs\u001b[0m\u001b[1;33m=\u001b[0m\u001b[0mkwargs\u001b[0m\u001b[1;33m)\u001b[0m\u001b[1;33m\u001b[0m\u001b[1;33m\u001b[0m\u001b[0m\n\u001b[0m\u001b[0;32m   2412\u001b[0m             \u001b[1;32mif\u001b[0m \u001b[0mlog\u001b[0m\u001b[1;33m:\u001b[0m\u001b[1;33m\u001b[0m\u001b[1;33m\u001b[0m\u001b[0m\n\u001b[0;32m   2413\u001b[0m                 \u001b[0mself\u001b[0m\u001b[1;33m.\u001b[0m\u001b[0mset_xscale\u001b[0m\u001b[1;33m(\u001b[0m\u001b[1;34m'log'\u001b[0m\u001b[1;33m,\u001b[0m \u001b[0mnonpositive\u001b[0m\u001b[1;33m=\u001b[0m\u001b[1;34m'clip'\u001b[0m\u001b[1;33m)\u001b[0m\u001b[1;33m\u001b[0m\u001b[1;33m\u001b[0m\u001b[0m\n",
      "\u001b[1;32m~\\anaconda3\\lib\\site-packages\\matplotlib\\axes\\_base.py\u001b[0m in \u001b[0;36m_process_unit_info\u001b[1;34m(self, xdata, ydata, kwargs)\u001b[0m\n\u001b[0;32m   2187\u001b[0m             \u001b[1;32mreturn\u001b[0m \u001b[0mkwargs\u001b[0m\u001b[1;33m\u001b[0m\u001b[1;33m\u001b[0m\u001b[0m\n\u001b[0;32m   2188\u001b[0m \u001b[1;33m\u001b[0m\u001b[0m\n\u001b[1;32m-> 2189\u001b[1;33m         \u001b[0mkwargs\u001b[0m \u001b[1;33m=\u001b[0m \u001b[0m_process_single_axis\u001b[0m\u001b[1;33m(\u001b[0m\u001b[0mxdata\u001b[0m\u001b[1;33m,\u001b[0m \u001b[0mself\u001b[0m\u001b[1;33m.\u001b[0m\u001b[0mxaxis\u001b[0m\u001b[1;33m,\u001b[0m \u001b[1;34m'xunits'\u001b[0m\u001b[1;33m,\u001b[0m \u001b[0mkwargs\u001b[0m\u001b[1;33m)\u001b[0m\u001b[1;33m\u001b[0m\u001b[1;33m\u001b[0m\u001b[0m\n\u001b[0m\u001b[0;32m   2190\u001b[0m         \u001b[0mkwargs\u001b[0m \u001b[1;33m=\u001b[0m \u001b[0m_process_single_axis\u001b[0m\u001b[1;33m(\u001b[0m\u001b[0mydata\u001b[0m\u001b[1;33m,\u001b[0m \u001b[0mself\u001b[0m\u001b[1;33m.\u001b[0m\u001b[0myaxis\u001b[0m\u001b[1;33m,\u001b[0m \u001b[1;34m'yunits'\u001b[0m\u001b[1;33m,\u001b[0m \u001b[0mkwargs\u001b[0m\u001b[1;33m)\u001b[0m\u001b[1;33m\u001b[0m\u001b[1;33m\u001b[0m\u001b[0m\n\u001b[0;32m   2191\u001b[0m         \u001b[1;32mreturn\u001b[0m \u001b[0mkwargs\u001b[0m\u001b[1;33m\u001b[0m\u001b[1;33m\u001b[0m\u001b[0m\n",
      "\u001b[1;32m~\\anaconda3\\lib\\site-packages\\matplotlib\\axes\\_base.py\u001b[0m in \u001b[0;36m_process_single_axis\u001b[1;34m(data, axis, unit_name, kwargs)\u001b[0m\n\u001b[0;32m   2170\u001b[0m                 \u001b[1;31m# We only need to update if there is nothing set yet.\u001b[0m\u001b[1;33m\u001b[0m\u001b[1;33m\u001b[0m\u001b[1;33m\u001b[0m\u001b[0m\n\u001b[0;32m   2171\u001b[0m                 \u001b[1;32mif\u001b[0m \u001b[1;32mnot\u001b[0m \u001b[0maxis\u001b[0m\u001b[1;33m.\u001b[0m\u001b[0mhave_units\u001b[0m\u001b[1;33m(\u001b[0m\u001b[1;33m)\u001b[0m\u001b[1;33m:\u001b[0m\u001b[1;33m\u001b[0m\u001b[1;33m\u001b[0m\u001b[0m\n\u001b[1;32m-> 2172\u001b[1;33m                     \u001b[0maxis\u001b[0m\u001b[1;33m.\u001b[0m\u001b[0mupdate_units\u001b[0m\u001b[1;33m(\u001b[0m\u001b[0mdata\u001b[0m\u001b[1;33m)\u001b[0m\u001b[1;33m\u001b[0m\u001b[1;33m\u001b[0m\u001b[0m\n\u001b[0m\u001b[0;32m   2173\u001b[0m \u001b[1;33m\u001b[0m\u001b[0m\n\u001b[0;32m   2174\u001b[0m             \u001b[1;31m# Check for units in the kwargs, and if present update axis\u001b[0m\u001b[1;33m\u001b[0m\u001b[1;33m\u001b[0m\u001b[1;33m\u001b[0m\u001b[0m\n",
      "\u001b[1;32m~\\anaconda3\\lib\\site-packages\\matplotlib\\axis.py\u001b[0m in \u001b[0;36mupdate_units\u001b[1;34m(self, data)\u001b[0m\n\u001b[0;32m   1461\u001b[0m         \u001b[0mneednew\u001b[0m \u001b[1;33m=\u001b[0m \u001b[0mself\u001b[0m\u001b[1;33m.\u001b[0m\u001b[0mconverter\u001b[0m \u001b[1;33m!=\u001b[0m \u001b[0mconverter\u001b[0m\u001b[1;33m\u001b[0m\u001b[1;33m\u001b[0m\u001b[0m\n\u001b[0;32m   1462\u001b[0m         \u001b[0mself\u001b[0m\u001b[1;33m.\u001b[0m\u001b[0mconverter\u001b[0m \u001b[1;33m=\u001b[0m \u001b[0mconverter\u001b[0m\u001b[1;33m\u001b[0m\u001b[1;33m\u001b[0m\u001b[0m\n\u001b[1;32m-> 1463\u001b[1;33m         \u001b[0mdefault\u001b[0m \u001b[1;33m=\u001b[0m \u001b[0mself\u001b[0m\u001b[1;33m.\u001b[0m\u001b[0mconverter\u001b[0m\u001b[1;33m.\u001b[0m\u001b[0mdefault_units\u001b[0m\u001b[1;33m(\u001b[0m\u001b[0mdata\u001b[0m\u001b[1;33m,\u001b[0m \u001b[0mself\u001b[0m\u001b[1;33m)\u001b[0m\u001b[1;33m\u001b[0m\u001b[1;33m\u001b[0m\u001b[0m\n\u001b[0m\u001b[0;32m   1464\u001b[0m         \u001b[1;32mif\u001b[0m \u001b[0mdefault\u001b[0m \u001b[1;32mis\u001b[0m \u001b[1;32mnot\u001b[0m \u001b[1;32mNone\u001b[0m \u001b[1;32mand\u001b[0m \u001b[0mself\u001b[0m\u001b[1;33m.\u001b[0m\u001b[0munits\u001b[0m \u001b[1;32mis\u001b[0m \u001b[1;32mNone\u001b[0m\u001b[1;33m:\u001b[0m\u001b[1;33m\u001b[0m\u001b[1;33m\u001b[0m\u001b[0m\n\u001b[0;32m   1465\u001b[0m             \u001b[0mself\u001b[0m\u001b[1;33m.\u001b[0m\u001b[0mset_units\u001b[0m\u001b[1;33m(\u001b[0m\u001b[0mdefault\u001b[0m\u001b[1;33m)\u001b[0m\u001b[1;33m\u001b[0m\u001b[1;33m\u001b[0m\u001b[0m\n",
      "\u001b[1;32m~\\anaconda3\\lib\\site-packages\\matplotlib\\category.py\u001b[0m in \u001b[0;36mdefault_units\u001b[1;34m(data, axis)\u001b[0m\n\u001b[0;32m    105\u001b[0m         \u001b[1;31m# the conversion call stack is default_units -> axis_info -> convert\u001b[0m\u001b[1;33m\u001b[0m\u001b[1;33m\u001b[0m\u001b[1;33m\u001b[0m\u001b[0m\n\u001b[0;32m    106\u001b[0m         \u001b[1;32mif\u001b[0m \u001b[0maxis\u001b[0m\u001b[1;33m.\u001b[0m\u001b[0munits\u001b[0m \u001b[1;32mis\u001b[0m \u001b[1;32mNone\u001b[0m\u001b[1;33m:\u001b[0m\u001b[1;33m\u001b[0m\u001b[1;33m\u001b[0m\u001b[0m\n\u001b[1;32m--> 107\u001b[1;33m             \u001b[0maxis\u001b[0m\u001b[1;33m.\u001b[0m\u001b[0mset_units\u001b[0m\u001b[1;33m(\u001b[0m\u001b[0mUnitData\u001b[0m\u001b[1;33m(\u001b[0m\u001b[0mdata\u001b[0m\u001b[1;33m)\u001b[0m\u001b[1;33m)\u001b[0m\u001b[1;33m\u001b[0m\u001b[1;33m\u001b[0m\u001b[0m\n\u001b[0m\u001b[0;32m    108\u001b[0m         \u001b[1;32melse\u001b[0m\u001b[1;33m:\u001b[0m\u001b[1;33m\u001b[0m\u001b[1;33m\u001b[0m\u001b[0m\n\u001b[0;32m    109\u001b[0m             \u001b[0maxis\u001b[0m\u001b[1;33m.\u001b[0m\u001b[0munits\u001b[0m\u001b[1;33m.\u001b[0m\u001b[0mupdate\u001b[0m\u001b[1;33m(\u001b[0m\u001b[0mdata\u001b[0m\u001b[1;33m)\u001b[0m\u001b[1;33m\u001b[0m\u001b[1;33m\u001b[0m\u001b[0m\n",
      "\u001b[1;32m~\\anaconda3\\lib\\site-packages\\matplotlib\\category.py\u001b[0m in \u001b[0;36m__init__\u001b[1;34m(self, data)\u001b[0m\n\u001b[0;32m    174\u001b[0m         \u001b[0mself\u001b[0m\u001b[1;33m.\u001b[0m\u001b[0m_counter\u001b[0m \u001b[1;33m=\u001b[0m \u001b[0mitertools\u001b[0m\u001b[1;33m.\u001b[0m\u001b[0mcount\u001b[0m\u001b[1;33m(\u001b[0m\u001b[1;33m)\u001b[0m\u001b[1;33m\u001b[0m\u001b[1;33m\u001b[0m\u001b[0m\n\u001b[0;32m    175\u001b[0m         \u001b[1;32mif\u001b[0m \u001b[0mdata\u001b[0m \u001b[1;32mis\u001b[0m \u001b[1;32mnot\u001b[0m \u001b[1;32mNone\u001b[0m\u001b[1;33m:\u001b[0m\u001b[1;33m\u001b[0m\u001b[1;33m\u001b[0m\u001b[0m\n\u001b[1;32m--> 176\u001b[1;33m             \u001b[0mself\u001b[0m\u001b[1;33m.\u001b[0m\u001b[0mupdate\u001b[0m\u001b[1;33m(\u001b[0m\u001b[0mdata\u001b[0m\u001b[1;33m)\u001b[0m\u001b[1;33m\u001b[0m\u001b[1;33m\u001b[0m\u001b[0m\n\u001b[0m\u001b[0;32m    177\u001b[0m \u001b[1;33m\u001b[0m\u001b[0m\n\u001b[0;32m    178\u001b[0m     \u001b[1;33m@\u001b[0m\u001b[0mstaticmethod\u001b[0m\u001b[1;33m\u001b[0m\u001b[1;33m\u001b[0m\u001b[0m\n",
      "\u001b[1;32m~\\anaconda3\\lib\\site-packages\\matplotlib\\category.py\u001b[0m in \u001b[0;36mupdate\u001b[1;34m(self, data)\u001b[0m\n\u001b[0;32m    209\u001b[0m         \u001b[1;32mfor\u001b[0m \u001b[0mval\u001b[0m \u001b[1;32min\u001b[0m \u001b[0mOrderedDict\u001b[0m\u001b[1;33m.\u001b[0m\u001b[0mfromkeys\u001b[0m\u001b[1;33m(\u001b[0m\u001b[0mdata\u001b[0m\u001b[1;33m)\u001b[0m\u001b[1;33m:\u001b[0m\u001b[1;33m\u001b[0m\u001b[1;33m\u001b[0m\u001b[0m\n\u001b[0;32m    210\u001b[0m             \u001b[1;31m# OrderedDict just iterates over unique values in data.\u001b[0m\u001b[1;33m\u001b[0m\u001b[1;33m\u001b[0m\u001b[1;33m\u001b[0m\u001b[0m\n\u001b[1;32m--> 211\u001b[1;33m             \u001b[0mcbook\u001b[0m\u001b[1;33m.\u001b[0m\u001b[0m_check_isinstance\u001b[0m\u001b[1;33m(\u001b[0m\u001b[1;33m(\u001b[0m\u001b[0mstr\u001b[0m\u001b[1;33m,\u001b[0m \u001b[0mbytes\u001b[0m\u001b[1;33m)\u001b[0m\u001b[1;33m,\u001b[0m \u001b[0mvalue\u001b[0m\u001b[1;33m=\u001b[0m\u001b[0mval\u001b[0m\u001b[1;33m)\u001b[0m\u001b[1;33m\u001b[0m\u001b[1;33m\u001b[0m\u001b[0m\n\u001b[0m\u001b[0;32m    212\u001b[0m             \u001b[1;32mif\u001b[0m \u001b[0mconvertible\u001b[0m\u001b[1;33m:\u001b[0m\u001b[1;33m\u001b[0m\u001b[1;33m\u001b[0m\u001b[0m\n\u001b[0;32m    213\u001b[0m                 \u001b[1;31m# this will only be called so long as convertible is True.\u001b[0m\u001b[1;33m\u001b[0m\u001b[1;33m\u001b[0m\u001b[1;33m\u001b[0m\u001b[0m\n",
      "\u001b[1;32m~\\anaconda3\\lib\\site-packages\\matplotlib\\cbook\\__init__.py\u001b[0m in \u001b[0;36m_check_isinstance\u001b[1;34m(_types, **kwargs)\u001b[0m\n\u001b[0;32m   2244\u001b[0m     \u001b[1;32mfor\u001b[0m \u001b[0mk\u001b[0m\u001b[1;33m,\u001b[0m \u001b[0mv\u001b[0m \u001b[1;32min\u001b[0m \u001b[0mkwargs\u001b[0m\u001b[1;33m.\u001b[0m\u001b[0mitems\u001b[0m\u001b[1;33m(\u001b[0m\u001b[1;33m)\u001b[0m\u001b[1;33m:\u001b[0m\u001b[1;33m\u001b[0m\u001b[1;33m\u001b[0m\u001b[0m\n\u001b[0;32m   2245\u001b[0m         \u001b[1;32mif\u001b[0m \u001b[1;32mnot\u001b[0m \u001b[0misinstance\u001b[0m\u001b[1;33m(\u001b[0m\u001b[0mv\u001b[0m\u001b[1;33m,\u001b[0m \u001b[0mtypes\u001b[0m\u001b[1;33m)\u001b[0m\u001b[1;33m:\u001b[0m\u001b[1;33m\u001b[0m\u001b[1;33m\u001b[0m\u001b[0m\n\u001b[1;32m-> 2246\u001b[1;33m             raise TypeError(\n\u001b[0m\u001b[0;32m   2247\u001b[0m                 \"{!r} must be an instance of {}, not a {}\".format(\n\u001b[0;32m   2248\u001b[0m                     \u001b[0mk\u001b[0m\u001b[1;33m,\u001b[0m\u001b[1;33m\u001b[0m\u001b[1;33m\u001b[0m\u001b[0m\n",
      "\u001b[1;31mTypeError\u001b[0m: 'value' must be an instance of str or bytes, not a numpy.int64"
     ]
    },
    {
     "data": {
      "image/png": "[encoded data removed]",
      "text/plain": [
       "<Figure size 720x1440 with 1 Axes>"
      ]
     },
     "metadata": {
      "needs_background": "light"
     },
     "output_type": "display_data"
    }
   ],
   "source": [
    "pfig, ax = plt.subplots()\n",
    "\n",
    "y_pos = np.arange(len(nan_country_sorted))\n",
    "plt.rcParams[\"figure.figsize\"] = (10,20)\n",
    "\n",
    "ax.barh(y_pos, nan_country_sorted[:][1], align='center')\n",
    "\n",
    "ax.set_yticks(y_pos)\n",
    "ax.set_yticklabels(nan_country_sorted[:][0])\n",
    "ax.invert_yaxis()  # labels read top-to-bottom\n",
    "ax.set_xlabel('Missing values')\n",
    "ax.set_title('Missing values per column')\n",
    "plt.savefig('MissingValues.svg', format='svg')"
   ]
  },
  {
   "cell_type": "code",
   "execution_count": 64,
   "metadata": {},
   "outputs": [
    {
     "ename": "TypeError",
     "evalue": "list indices must be integers or slices, not tuple",
     "output_type": "error",
     "traceback": [
      "\u001b[1;31m---------------------------------------------------------------------------\u001b[0m",
      "\u001b[1;31mTypeError\u001b[0m                                 Traceback (most recent call last)",
      "\u001b[1;32m<ipython-input-64-ba9ae29ed8df>\u001b[0m in \u001b[0;36m<module>\u001b[1;34m\u001b[0m\n\u001b[1;32m----> 1\u001b[1;33m \u001b[0mnan_country_sorted\u001b[0m\u001b[1;33m[\u001b[0m\u001b[1;33m:\u001b[0m\u001b[1;33m,\u001b[0m\u001b[1;36m1\u001b[0m\u001b[1;33m]\u001b[0m\u001b[1;33m\u001b[0m\u001b[1;33m\u001b[0m\u001b[0m\n\u001b[0m",
      "\u001b[1;31mTypeError\u001b[0m: list indices must be integers or slices, not tuple"
     ]
    }
   ],
   "source": []
  },
  {
   "cell_type": "code",
   "execution_count": 66,
   "metadata": {},
   "outputs": [
    {
     "data": {
      "text/html": [
       "<div>\n",
       "<style scoped>\n",
       "    .dataframe tbody tr th:only-of-type {\n",
       "        vertical-align: middle;\n",
       "    }\n",
       "\n",
       "    .dataframe tbody tr th {\n",
       "        vertical-align: top;\n",
       "    }\n",
       "\n",
       "    .dataframe thead th {\n",
       "        text-align: right;\n",
       "    }\n",
       "</style>\n",
       "<table border=\"1\" class=\"dataframe\">\n",
       "  <thead>\n",
       "    <tr style=\"text-align: right;\">\n",
       "      <th></th>\n",
       "      <th>Country Name</th>\n",
       "      <th>Indicator Name</th>\n",
       "      <th>1989</th>\n",
       "      <th>1990</th>\n",
       "      <th>1991</th>\n",
       "      <th>1992</th>\n",
       "      <th>1993</th>\n",
       "      <th>1994</th>\n",
       "      <th>1995</th>\n",
       "      <th>1996</th>\n",
       "      <th>...</th>\n",
       "      <th>2010</th>\n",
       "      <th>2011</th>\n",
       "      <th>2012</th>\n",
       "      <th>2013</th>\n",
       "      <th>2014</th>\n",
       "      <th>2015</th>\n",
       "      <th>2016</th>\n",
       "      <th>2017</th>\n",
       "      <th>2018</th>\n",
       "      <th>2019</th>\n",
       "    </tr>\n",
       "  </thead>\n",
       "  <tbody>\n",
       "    <tr>\n",
       "      <th>0</th>\n",
       "      <td>Algeria</td>\n",
       "      <td>Adjusted net national income (constant 2010 US$)</td>\n",
       "      <td>2.052023e+06</td>\n",
       "      <td>2.012271e+06</td>\n",
       "      <td>1.975446e+06</td>\n",
       "      <td>1.908694e+06</td>\n",
       "      <td>1.729186e+06</td>\n",
       "      <td>1.689777e+06</td>\n",
       "      <td>1.661869e+06</td>\n",
       "      <td>1.643927e+06</td>\n",
       "      <td>...</td>\n",
       "      <td>3.401323e+06</td>\n",
       "      <td>3.396150e+06</td>\n",
       "      <td>3.589790e+06</td>\n",
       "      <td>3.548539e+06</td>\n",
       "      <td>3.503132e+06</td>\n",
       "      <td>3.325664e+06</td>\n",
       "      <td>3.495184e+06</td>\n",
       "      <td>3.490920e+06</td>\n",
       "      <td>3.423912e+06</td>\n",
       "      <td>NaN</td>\n",
       "    </tr>\n",
       "    <tr>\n",
       "      <th>1</th>\n",
       "      <td>Algeria</td>\n",
       "      <td>Age dependency ratio (% of working-age populat...</td>\n",
       "      <td>8.952999e+01</td>\n",
       "      <td>8.764613e+01</td>\n",
       "      <td>8.577588e+01</td>\n",
       "      <td>8.375662e+01</td>\n",
       "      <td>8.157296e+01</td>\n",
       "      <td>7.918647e+01</td>\n",
       "      <td>7.658746e+01</td>\n",
       "      <td>7.406596e+01</td>\n",
       "      <td>...</td>\n",
       "      <td>4.867454e+01</td>\n",
       "      <td>4.921309e+01</td>\n",
       "      <td>4.977822e+01</td>\n",
       "      <td>5.049722e+01</td>\n",
       "      <td>5.150919e+01</td>\n",
       "      <td>5.283779e+01</td>\n",
       "      <td>5.418401e+01</td>\n",
       "      <td>5.580400e+01</td>\n",
       "      <td>5.750803e+01</td>\n",
       "      <td>5.899049e+01</td>\n",
       "    </tr>\n",
       "    <tr>\n",
       "      <th>2</th>\n",
       "      <td>Algeria</td>\n",
       "      <td>Agricultural land (sq. km)</td>\n",
       "      <td>1.627382e-01</td>\n",
       "      <td>1.623855e-01</td>\n",
       "      <td>1.621588e-01</td>\n",
       "      <td>1.631790e-01</td>\n",
       "      <td>1.631664e-01</td>\n",
       "      <td>1.664329e-01</td>\n",
       "      <td>1.664707e-01</td>\n",
       "      <td>1.664161e-01</td>\n",
       "      <td>...</td>\n",
       "      <td>1.737133e-01</td>\n",
       "      <td>1.737721e-01</td>\n",
       "      <td>1.738149e-01</td>\n",
       "      <td>1.739553e-01</td>\n",
       "      <td>1.739527e-01</td>\n",
       "      <td>1.740593e-01</td>\n",
       "      <td>1.736554e-01</td>\n",
       "      <td>NaN</td>\n",
       "      <td>NaN</td>\n",
       "      <td>NaN</td>\n",
       "    </tr>\n",
       "    <tr>\n",
       "      <th>3</th>\n",
       "      <td>Algeria</td>\n",
       "      <td>Consumer price index (2010 = 100)</td>\n",
       "      <td>1.330392e+01</td>\n",
       "      <td>1.551936e+01</td>\n",
       "      <td>1.953677e+01</td>\n",
       "      <td>2.572399e+01</td>\n",
       "      <td>3.100779e+01</td>\n",
       "      <td>4.001482e+01</td>\n",
       "      <td>5.193109e+01</td>\n",
       "      <td>6.163133e+01</td>\n",
       "      <td>...</td>\n",
       "      <td>1.000000e+02</td>\n",
       "      <td>1.045242e+02</td>\n",
       "      <td>1.138179e+02</td>\n",
       "      <td>1.175218e+02</td>\n",
       "      <td>1.209499e+02</td>\n",
       "      <td>1.267366e+02</td>\n",
       "      <td>1.348449e+02</td>\n",
       "      <td>1.423842e+02</td>\n",
       "      <td>1.484640e+02</td>\n",
       "      <td>1.513617e+02</td>\n",
       "    </tr>\n",
       "    <tr>\n",
       "      <th>4</th>\n",
       "      <td>Algeria</td>\n",
       "      <td>Exports of goods and services (constant 2010 US$)</td>\n",
       "      <td>1.754021e+06</td>\n",
       "      <td>1.767704e+06</td>\n",
       "      <td>1.709221e+06</td>\n",
       "      <td>1.734628e+06</td>\n",
       "      <td>1.664282e+06</td>\n",
       "      <td>1.574746e+06</td>\n",
       "      <td>1.642288e+06</td>\n",
       "      <td>1.734778e+06</td>\n",
       "      <td>...</td>\n",
       "      <td>1.722062e+06</td>\n",
       "      <td>1.638994e+06</td>\n",
       "      <td>1.546543e+06</td>\n",
       "      <td>1.429473e+06</td>\n",
       "      <td>1.403499e+06</td>\n",
       "      <td>1.381959e+06</td>\n",
       "      <td>1.448672e+06</td>\n",
       "      <td>1.332768e+06</td>\n",
       "      <td>1.257948e+06</td>\n",
       "      <td>1.158589e+06</td>\n",
       "    </tr>\n",
       "  </tbody>\n",
       "</table>\n",
       "<p>5 rows × 33 columns</p>\n",
       "</div>"
      ],
      "text/plain": [
       "  Country Name                                     Indicator Name  \\\n",
       "0      Algeria   Adjusted net national income (constant 2010 US$)   \n",
       "1      Algeria  Age dependency ratio (% of working-age populat...   \n",
       "2      Algeria                         Agricultural land (sq. km)   \n",
       "3      Algeria                  Consumer price index (2010 = 100)   \n",
       "4      Algeria  Exports of goods and services (constant 2010 US$)   \n",
       "\n",
       "           1989          1990          1991          1992          1993  \\\n",
       "0  2.052023e+06  2.012271e+06  1.975446e+06  1.908694e+06  1.729186e+06   \n",
       "1  8.952999e+01  8.764613e+01  8.577588e+01  8.375662e+01  8.157296e+01   \n",
       "2  1.627382e-01  1.623855e-01  1.621588e-01  1.631790e-01  1.631664e-01   \n",
       "3  1.330392e+01  1.551936e+01  1.953677e+01  2.572399e+01  3.100779e+01   \n",
       "4  1.754021e+06  1.767704e+06  1.709221e+06  1.734628e+06  1.664282e+06   \n",
       "\n",
       "           1994          1995          1996  ...          2010          2011  \\\n",
       "0  1.689777e+06  1.661869e+06  1.643927e+06  ...  3.401323e+06  3.396150e+06   \n",
       "1  7.918647e+01  7.658746e+01  7.406596e+01  ...  4.867454e+01  4.921309e+01   \n",
       "2  1.664329e-01  1.664707e-01  1.664161e-01  ...  1.737133e-01  1.737721e-01   \n",
       "3  4.001482e+01  5.193109e+01  6.163133e+01  ...  1.000000e+02  1.045242e+02   \n",
       "4  1.574746e+06  1.642288e+06  1.734778e+06  ...  1.722062e+06  1.638994e+06   \n",
       "\n",
       "           2012          2013          2014          2015          2016  \\\n",
       "0  3.589790e+06  3.548539e+06  3.503132e+06  3.325664e+06  3.495184e+06   \n",
       "1  4.977822e+01  5.049722e+01  5.150919e+01  5.283779e+01  5.418401e+01   \n",
       "2  1.738149e-01  1.739553e-01  1.739527e-01  1.740593e-01  1.736554e-01   \n",
       "3  1.138179e+02  1.175218e+02  1.209499e+02  1.267366e+02  1.348449e+02   \n",
       "4  1.546543e+06  1.429473e+06  1.403499e+06  1.381959e+06  1.448672e+06   \n",
       "\n",
       "           2017          2018          2019  \n",
       "0  3.490920e+06  3.423912e+06           NaN  \n",
       "1  5.580400e+01  5.750803e+01  5.899049e+01  \n",
       "2           NaN           NaN           NaN  \n",
       "3  1.423842e+02  1.484640e+02  1.513617e+02  \n",
       "4  1.332768e+06  1.257948e+06  1.158589e+06  \n",
       "\n",
       "[5 rows x 33 columns]"
      ]
     },
     "execution_count": 66,
     "metadata": {},
     "output_type": "execute_result"
    }
   ],
   "source": [
    "df_fin = pd.read_csv('preprocessed_normalized_data.csv', index_col=0)\n",
    "df_fin.head()"
   ]
  },
  {
   "cell_type": "code",
   "execution_count": 67,
   "metadata": {},
   "outputs": [
    {
     "data": {
      "text/plain": [
       "94"
      ]
     },
     "execution_count": 67,
     "metadata": {},
     "output_type": "execute_result"
    }
   ],
   "source": [
    "len(list(df_fin['Country Name'].unique()))"
   ]
  },
  {
   "cell_type": "code",
   "execution_count": 68,
   "metadata": {},
   "outputs": [
    {
     "data": {
      "text/plain": [
       "(1222, 33)"
      ]
     },
     "execution_count": 68,
     "metadata": {},
     "output_type": "execute_result"
    }
   ],
   "source": [
    "df_fin.shape"
   ]
  },
  {
   "cell_type": "code",
   "execution_count": 69,
   "metadata": {},
   "outputs": [
    {
     "data": {
      "text/plain": [
       "1043"
      ]
     },
     "execution_count": 69,
     "metadata": {},
     "output_type": "execute_result"
    }
   ],
   "source": [
    "sum(df_fin.isna().sum().values)"
   ]
  },
  {
   "cell_type": "code",
   "execution_count": null,
   "metadata": {},
   "outputs": [],
   "source": []
  }
 ],
 "metadata": {
  "kernelspec": {
   "display_name": "Python 3",
   "language": "python",
   "name": "python3"
  },
  "language_info": {
   "codemirror_mode": {
    "name": "ipython",
    "version": 3
   },
   "file_extension": ".py",
   "mimetype": "text/x-python",
   "name": "python",
   "nbconvert_exporter": "python",
   "pygments_lexer": "ipython3",
   "version": "3.8.5"
  }
 },
 "nbformat": 4,
 "nbformat_minor": 4
}
