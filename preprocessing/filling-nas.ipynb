{
 "cells": [
  {
   "cell_type": "code",
   "execution_count": 1,
   "metadata": {},
   "outputs": [],
   "source": [
    "import pandas as pd"
   ]
  },
  {
   "cell_type": "code",
   "execution_count": 2,
   "metadata": {},
   "outputs": [],
   "source": [
    "df = pd.read_csv('./data/preprocessed_cleaned_data.csv', index_col = 0)"
   ]
  },
  {
   "cell_type": "code",
   "execution_count": 3,
   "metadata": {},
   "outputs": [],
   "source": [
    "for country in df['Country Name'].unique():\n",
    "    for index in df['Indicator Name'].unique():\n",
    "        if(df[(df['Country Name']==country) & (df['Indicator Name']==index)].isna().sum().sum() > 10):\n",
    "            df[(df['Country Name']==country) & (df['Indicator Name']==index)] = df[(df['Country Name']==country) & (df['Indicator Name']==index)].fillna(value=0)\n",
    "        else:\n",
    "            df[(df['Country Name']==country) & (df['Indicator Name']==index)] = df[(df['Country Name']==country) & (df['Indicator Name']==index)].fillna(method = 'ffill')"
   ]
  },
  {
   "cell_type": "code",
   "execution_count": 6,
   "metadata": {},
   "outputs": [
    {
     "data": {
      "text/plain": [
       "Country Name      0\n",
       "Indicator Name    0\n",
       "1989              0\n",
       "1990              0\n",
       "1991              0\n",
       "1992              0\n",
       "1993              0\n",
       "1994              0\n",
       "1995              0\n",
       "1996              0\n",
       "1997              0\n",
       "1998              0\n",
       "1999              0\n",
       "2000              0\n",
       "2001              0\n",
       "2002              0\n",
       "2003              0\n",
       "2004              0\n",
       "2005              0\n",
       "2006              0\n",
       "2007              0\n",
       "2008              0\n",
       "2009              0\n",
       "2010              0\n",
       "2011              0\n",
       "2012              0\n",
       "2013              0\n",
       "2014              0\n",
       "2015              0\n",
       "2016              0\n",
       "2017              0\n",
       "2018              0\n",
       "2019              0\n",
       "dtype: int64"
      ]
     },
     "execution_count": 6,
     "metadata": {},
     "output_type": "execute_result"
    }
   ],
   "source": [
    "df = df.fillna(method = 'bfill')\n",
    "#df = df.fillna(0)\n",
    "df.isna().sum()"
   ]
  },
  {
   "cell_type": "code",
   "execution_count": 7,
   "metadata": {},
   "outputs": [],
   "source": [
    "df.to_csv('./data/non_nans.csv')"
   ]
  }
 ],
 "metadata": {
  "kernelspec": {
   "display_name": "ed-project",
   "language": "python",
   "name": "ed-project"
  },
  "language_info": {
   "codemirror_mode": {
    "name": "ipython",
    "version": 3
   },
   "file_extension": ".py",
   "mimetype": "text/x-python",
   "name": "python",
   "nbconvert_exporter": "python",
   "pygments_lexer": "ipython3",
   "version": "3.8.5"
  }
 },
 "nbformat": 4,
 "nbformat_minor": 4
}
